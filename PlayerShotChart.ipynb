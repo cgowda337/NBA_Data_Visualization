{
 "cells": [
  {
   "cell_type": "code",
   "execution_count": 20,
   "id": "d1dd0e43",
   "metadata": {},
   "outputs": [],
   "source": [
    "# Import packages\n",
    "from nba_api.stats.endpoints import shotchartdetail\n",
    "import json\n",
    "import requests\n",
    "import pandas as pd\n",
    "import matplotlib as mpl\n",
    "import matplotlib.pyplot as plt\n",
    "import seaborn as sns\n",
    "import numpy as np"
   ]
  },
  {
   "cell_type": "code",
   "execution_count": 21,
   "id": "b0d677aa",
   "metadata": {},
   "outputs": [],
   "source": [
    "# Load teams file\n",
    "teams = json.loads(requests.get('https://raw.githubusercontent.com/bttmly/nba/master/data/teams.json').text)\n",
    "# Load players file\n",
    "players = json.loads(requests.get('https://raw.githubusercontent.com/bttmly/nba/master/data/players.json').text)"
   ]
  },
  {
   "cell_type": "code",
   "execution_count": 3,
   "id": "0057d728",
   "metadata": {},
   "outputs": [],
   "source": [
    "# Get team ID based on team name\n",
    "def get_team_id(first, last):\n",
    "  for player in players:\n",
    "    if player['firstName'] == first and player['lastName'] == last:\n",
    "      return player['teamId']\n",
    "  return -1\n",
    "# Get player ID based on player name\n",
    "def get_player_id(first, last):\n",
    "  for player in players:\n",
    "    if player['firstName'] == first and player['lastName'] == last:\n",
    "      return player['playerId']\n",
    "  return -1"
   ]
  },
  {
   "cell_type": "code",
   "execution_count": 25,
   "id": "01be2b2e",
   "metadata": {},
   "outputs": [],
   "source": [
    "shot_json = shotchartdetail.ShotChartDetail(\n",
    "            team_id = get_team_id('Ja','Morant'),\n",
    "            player_id = get_player_id('Ja', 'Morant'),\n",
    "            context_measure_simple = 'PTS',\n",
    "            season_nullable = '2022-23',\n",
    "            season_type_all_star = 'Regular Season')"
   ]
  },
  {
   "cell_type": "code",
   "execution_count": 26,
   "id": "c36205f6",
   "metadata": {},
   "outputs": [],
   "source": [
    "# Load data into a Python dictionary\n",
    "shot_data = json.loads(shot_json.get_json())\n",
    "# Get the relevant data from our dictionary\n",
    "rel_data = shot_data['resultSets'][0]\n",
    "# Get the headers and row data\n",
    "headers = rel_data['headers']\n",
    "rows = rel_data['rowSet']"
   ]
  },
  {
   "cell_type": "code",
   "execution_count": 27,
   "id": "91d0001e",
   "metadata": {},
   "outputs": [],
   "source": [
    "# Create pandas DataFrame\n",
    "bron_data = pd.DataFrame(rows)\n",
    "bron_data.columns = headers"
   ]
  },
  {
   "cell_type": "code",
   "execution_count": 28,
   "id": "b51f0968",
   "metadata": {},
   "outputs": [
    {
     "data": {
      "text/plain": [
       "Index(['GRID_TYPE', 'GAME_ID', 'GAME_EVENT_ID', 'PLAYER_ID', 'PLAYER_NAME',\n",
       "       'TEAM_ID', 'TEAM_NAME', 'PERIOD', 'MINUTES_REMAINING',\n",
       "       'SECONDS_REMAINING', 'EVENT_TYPE', 'ACTION_TYPE', 'SHOT_TYPE',\n",
       "       'SHOT_ZONE_BASIC', 'SHOT_ZONE_AREA', 'SHOT_ZONE_RANGE', 'SHOT_DISTANCE',\n",
       "       'LOC_X', 'LOC_Y', 'SHOT_ATTEMPTED_FLAG', 'SHOT_MADE_FLAG', 'GAME_DATE',\n",
       "       'HTM', 'VTM'],\n",
       "      dtype='object')"
      ]
     },
     "execution_count": 28,
     "metadata": {},
     "output_type": "execute_result"
    }
   ],
   "source": [
    "bron_data.columns"
   ]
  },
  {
   "cell_type": "code",
   "execution_count": 29,
   "id": "7052dd5f",
   "metadata": {},
   "outputs": [],
   "source": [
    "# Function to draw basketball court\n",
    "def create_court(ax, color):\n",
    "    # Short corner 3PT lines\n",
    "    ax.plot([-220, -220], [0, 140], linewidth=2, color=color)\n",
    "    ax.plot([220, 220], [0, 140], linewidth=2, color=color)\n",
    "    # 3PT Arc\n",
    "    ax.add_artist(mpl.patches.Arc((0, 140), 440, 315, theta1=0, theta2=180, facecolor='black', edgecolor=color, lw=2))\n",
    "    # Lane and Key\n",
    "    ax.plot([-80, -80], [0, 190], linewidth=2, color=color)\n",
    "    ax.plot([80, 80], [0, 190], linewidth=2, color=color)\n",
    "    ax.plot([-60, -60], [0, 190], linewidth=2, color=color)\n",
    "    ax.plot([60, 60], [0, 190], linewidth=2, color=color)\n",
    "    ax.plot([-80, 80], [190, 190], linewidth=2, color=color)\n",
    "    ax.add_artist(mpl.patches.Circle((0, 190), 60, facecolor='none', edgecolor=color, lw=2))\n",
    "    # Rim\n",
    "    ax.add_artist(mpl.patches.Circle((0, 60), 15, facecolor='none', edgecolor=color, lw=2))\n",
    "    # Backboard\n",
    "    ax.plot([-30, 30], [40, 40], linewidth=2, color=color)\n",
    "    # Remove ticks\n",
    "    ax.set_xticks([])\n",
    "    ax.set_yticks([]) \n",
    "    # Set axis limits\n",
    "    ax.set_xlim(-250, 250)\n",
    "    ax.set_ylim(0, 470)\n",
    "    "
   ]
  },
  {
   "cell_type": "code",
   "execution_count": 34,
   "id": "e9ccfbab",
   "metadata": {},
   "outputs": [
    {
     "data": {
      "image/png": "[encoded data removed]",
      "text/plain": [
       "<Figure size 400x376 with 1 Axes>"
      ]
     },
     "metadata": {},
     "output_type": "display_data"
    }
   ],
   "source": [
    "# General plot parameters\n",
    "mpl.rcParams['font.family'] = 'Avenir'\n",
    "mpl.rcParams['font.size'] = 10\n",
    "mpl.rcParams['axes.linewidth'] = 2\n",
    "# Draw basketball court\n",
    "fig = plt.figure(figsize=(4, 3.76))\n",
    "ax = fig.add_axes([0, 0, 1, 1])\n",
    "ax = create_court(ax, 'black')\n",
    "# Plot hexbin of shots\n",
    "plt.hexbin(bron_data['LOC_X'], bron_data['LOC_Y'] + 60, gridsize=(30, 30), extent=(-300, 300, 0, 900), bins='log')\n",
    "plt.title(\"Ja 2022-23\")\n",
    "plt.show()"
   ]
  }
 ],
 "metadata": {
  "kernelspec": {
   "display_name": "Python 3 (ipykernel)",
   "language": "python",
   "name": "python3"
  },
  "language_info": {
   "codemirror_mode": {
    "name": "ipython",
    "version": 3
   },
   "file_extension": ".py",
   "mimetype": "text/x-python",
   "name": "python",
   "nbconvert_exporter": "python",
   "pygments_lexer": "ipython3",
   "version": "3.9.12"
  }
 },
 "nbformat": 4,
 "nbformat_minor": 5
}
